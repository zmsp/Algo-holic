{
 "cells": [
  {
   "cell_type": "markdown",
   "metadata": {
    "collapsed": true,
    "pycharm": {
     "name": "#%% md\n"
    }
   },
   "source": [
    "# Common graph algorithms\n",
    "These algorithms creates the building block for almost any traversal algorithm. It traverses the graph by digging as deep as possible of a path down a single vertex, then backtracking and traversing neighbors until all nodes are searched."
   ]
  },
  {
   "cell_type": "code",
   "execution_count": null,
   "metadata": {},
   "outputs": [],
   "source": []
  },
  {
   "cell_type": "code",
   "execution_count": null,
   "metadata": {},
   "outputs": [],
   "source": []
  },
  {
   "cell_type": "markdown",
   "metadata": {},
   "source": [
    "### Depth first search\n"
   ]
  },
  {
   "cell_type": "code",
   "execution_count": 1,
   "metadata": {
    "pycharm": {
     "name": "#%%\n"
    }
   },
   "outputs": [
    {
     "name": "stdout",
     "output_type": "stream",
     "text": [
      "5\n",
      "3\n",
      "2\n",
      "4\n",
      "8\n",
      "7\n"
     ]
    }
   ],
   "source": [
    "### DFS\n",
    "\n",
    "graph = {\n",
    "  '5' : ['3','7'],\n",
    "  '3' : ['2', '4'],\n",
    "  '7' : ['8'],\n",
    "  '2' : [],\n",
    "  '4' : ['8'],\n",
    "  '8' : []\n",
    "}\n",
    "\n",
    "visited = set() # Set to keep track of visited nodes of graph.\n",
    "\n",
    "\n",
    "def dfs(visited, graph, node):\n",
    "    if (node not in visited):\n",
    "        print(node)\n",
    "        visited.add(node)\n",
    "        for n in graph[node]:\n",
    "            dfs(visited, graph, n)\n",
    "dfs(visited, graph, \"5\")"
   ]
  },
  {
   "cell_type": "code",
   "execution_count": 2,
   "metadata": {},
   "outputs": [
    {
     "name": "stdout",
     "output_type": "stream",
     "text": [
      "5\n",
      "3\n",
      "7\n",
      "2\n",
      "4\n",
      "8\n",
      "8\n"
     ]
    }
   ],
   "source": [
    "### BFS\n",
    "\n",
    "graph = {\n",
    "  '5' : ['3','7'],\n",
    "  '3' : ['2', '4'],\n",
    "  '7' : ['8'],\n",
    "  '2' : [],\n",
    "  '4' : ['8'],\n",
    "  '8' : []\n",
    "}\n",
    "\n",
    "visited = set() # Set to keep track of visited nodes of graph.\n",
    "\n",
    "queue = []\n",
    "def bfs(visited, graph, node):\n",
    "    queue.append(node)\n",
    "    while(True):\n",
    "        if not queue:\n",
    "            return\n",
    "        n = queue.pop(0)\n",
    "        print(n)\n",
    "        for leaf in graph[n]:\n",
    "            queue.append(leaf)\n",
    "        \n",
    "            \n",
    "bfs(visited, graph, \"5\")"
   ]
  },
  {
   "cell_type": "markdown",
   "metadata": {},
   "source": [
    "# Shortest path Algorithms"
   ]
  },
  {
   "cell_type": "markdown",
   "metadata": {},
   "source": [
    "#### Dijkstra Algorithm\n",
    "This algorithm is used to find shortest way to travel. \n",
    "Lets suppose we have a few cities we gotta visit. What's the most effictive way of visisting the cities with least amount of travel? We would use this algo.\n",
    "\n",
    "\n",
    "\n",
    "\n"
   ]
  },
  {
   "cell_type": "code",
   "execution_count": 3,
   "metadata": {},
   "outputs": [],
   "source": [
    "from queue import PriorityQueue\n",
    "class Graph:\n",
    "    def __init__(self, num_of_vertices):\n",
    "        self.v = num_of_vertices\n",
    "        self.edges = [[-1 for i in range(num_of_vertices)] for j in range(num_of_vertices)]\n",
    "        self.visited = []\n",
    "    def add_edge(self, u, v, weight):\n",
    "        self.edges[u][v] = weight\n",
    "        self.edges[v][u] = weight\n",
    "        \n",
    "def dijkstra(graph, start_vertex):\n",
    "    D = {v:float('inf') for v in range(graph.v)}\n",
    "    D[start_vertex] = 0\n",
    "\n",
    "    pq = PriorityQueue()\n",
    "    pq.put((0, start_vertex))\n",
    "\n",
    "    while not pq.empty():\n",
    "        (dist, current_vertex) = pq.get()\n",
    "        graph.visited.append(current_vertex)\n",
    "\n",
    "        for neighbor in range(graph.v):\n",
    "            if graph.edges[current_vertex][neighbor] != -1:\n",
    "                distance = graph.edges[current_vertex][neighbor]\n",
    "                if neighbor not in graph.visited:\n",
    "                    old_cost = D[neighbor]\n",
    "                    new_cost = D[current_vertex] + distance\n",
    "                    if new_cost < old_cost:\n",
    "                        pq.put((new_cost, neighbor))\n",
    "                        D[neighbor] = new_cost\n",
    "    return D\n"
   ]
  },
  {
   "cell_type": "code",
   "execution_count": 4,
   "metadata": {},
   "outputs": [
    {
     "name": "stdout",
     "output_type": "stream",
     "text": [
      "{0: 0, 1: 4, 2: 11, 3: 17, 4: 9, 5: 22, 6: 7, 7: 8, 8: 11}\n"
     ]
    }
   ],
   "source": [
    "g = Graph(9)\n",
    "g.add_edge(0, 1, 4)\n",
    "g.add_edge(0, 6, 7)\n",
    "g.add_edge(1, 6, 11)\n",
    "g.add_edge(1, 7, 20)\n",
    "g.add_edge(1, 2, 9)\n",
    "g.add_edge(2, 3, 6)\n",
    "g.add_edge(2, 4, 2)\n",
    "g.add_edge(3, 4, 10)\n",
    "g.add_edge(3, 5, 5)\n",
    "g.add_edge(4, 5, 15)\n",
    "g.add_edge(4, 7, 1)\n",
    "g.add_edge(4, 8, 5)\n",
    "g.add_edge(5, 8, 12)\n",
    "g.add_edge(6, 7, 1)\n",
    "g.add_edge(7, 8, 3) \n",
    "D = dijkstra(g, 0)\n",
    "print(D)"
   ]
  },
  {
   "cell_type": "markdown",
   "metadata": {},
   "source": [
    "in above example code (not by zobair), we are setting initial distance from a given vetrex to  infinity and updating it to least cost though the loop functions...."
   ]
  },
  {
   "cell_type": "markdown",
   "metadata": {},
   "source": [
    "#### Bellman-Ford Algo"
   ]
  },
  {
   "cell_type": "markdown",
   "metadata": {},
   "source": [
    "Dijk's algorithm fails when there are negative weight edges. We can use this one to find negative weights... limitation is, that it's useful for one given vertex\n",
    "\n",
    "WTF are negative weight edges??\n",
    "Think of it like power needed to go from up hill -> downhill in terms of power generation. Here you would gain power, thus negative weight.\n",
    "\n",
    "Input- graph\n",
    "output- shortest distance from vertices to all the edges. \n",
    "\n"
   ]
  },
  {
   "cell_type": "code",
   "execution_count": 5,
   "metadata": {},
   "outputs": [
    {
     "name": "stdout",
     "output_type": "stream",
     "text": [
      "Vertex Distance from Source\n",
      "0\t\t0\n",
      "1\t\t-1\n",
      "2\t\t2\n",
      "3\t\t-2\n",
      "4\t\t1\n"
     ]
    }
   ],
   "source": [
    "## Code form https://www.geeksforgeeks.org/bellman-ford-algorithm-dp-23/\n",
    "class Graph:\n",
    " \n",
    "    def __init__(self, vertices):\n",
    "        self.V = vertices # No. of vertices\n",
    "        self.graph = []\n",
    " \n",
    "    # function to add an edge to graph\n",
    "    def addEdge(self, u, v, w):\n",
    "        self.graph.append([u, v, w])\n",
    "         \n",
    "    # utility function used to print the solution\n",
    "    def printArr(self, dist):\n",
    "        print(\"Vertex Distance from Source\")\n",
    "        for i in range(self.V):\n",
    "            print(\"{0}\\t\\t{1}\".format(i, dist[i]))\n",
    "     \n",
    "    # The main function that finds shortest distances from src to\n",
    "    # all other vertices using Bellman-Ford algorithm. The function\n",
    "    # also detects negative weight cycle\n",
    "    def BellmanFord(self, src):\n",
    " \n",
    "        # Step 1: Initialize distances from src to all other vertices\n",
    "        # as INFINITE\n",
    "        dist = [float(\"Inf\")] * self.V\n",
    "        dist[src] = 0\n",
    " \n",
    " \n",
    "        # Step 2: Relax all edges |V| - 1 times. A simple shortest\n",
    "        # path from src to any other vertex can have at-most |V| - 1\n",
    "        # edges\n",
    "        for _ in range(self.V - 1):\n",
    "            # Update dist value and parent index of the adjacent vertices of\n",
    "            # the picked vertex. Consider only those vertices which are still in\n",
    "            # queue\n",
    "            for u, v, w in self.graph:\n",
    "                if dist[u] != float(\"Inf\") and dist[u] + w < dist[v]:\n",
    "                        dist[v] = dist[u] + w\n",
    " \n",
    "        # Step 3: check for negative-weight cycles. The above step\n",
    "        # guarantees shortest distances if graph doesn't contain\n",
    "        # negative weight cycle. If we get a shorter path, then there\n",
    "        # is a cycle.\n",
    " \n",
    "        for u, v, w in self.graph:\n",
    "                if dist[u] != float(\"Inf\") and dist[u] + w < dist[v]:\n",
    "                        print(\"Graph contains negative weight cycle\")\n",
    "                        return\n",
    "                         \n",
    "        # print all distance\n",
    "        self.printArr(dist)\n",
    " \n",
    "g = Graph(5)\n",
    "g.addEdge(0, 1, -1)\n",
    "g.addEdge(0, 2, 4)\n",
    "g.addEdge(1, 2, 3)\n",
    "g.addEdge(1, 3, 2)\n",
    "g.addEdge(1, 4, 2)\n",
    "g.addEdge(3, 2, 5)\n",
    "g.addEdge(3, 1, 1)\n",
    "g.addEdge(4, 3, -3)\n",
    " \n",
    "# Print the solution\n",
    "g.BellmanFord(0)"
   ]
  },
  {
   "cell_type": "markdown",
   "metadata": {},
   "source": [
    "##### Floyed-Warshall Algo\n",
    "This algo is useful for finding shortest path for all pairs of verticies. A dumb down version would be to use other shortest path such as ford or dyjk's stuff. But not us. We use Floyed's.\n",
    "\n",
    "Issues with this algo: Doesn't work with negative weight.\n",
    "\n",
    "This improves the efficency to O (n^3) times.\n",
    "\n",
    "This algo creates N*N matrix and fills the matrix by looking at previous entries to caclulate min distance..bhalh blah..\n",
    "\n",
    "\n"
   ]
  },
  {
   "cell_type": "code",
   "execution_count": 6,
   "metadata": {},
   "outputs": [
    {
     "name": "stdout",
     "output_type": "stream",
     "text": [
      "0  5  15  10   \n",
      "20  0  10  5   \n",
      "30  35  0  15   \n",
      "15  20  5  0   \n"
     ]
    }
   ],
   "source": [
    "# Number of vertices\n",
    "nV = 4\n",
    "INF = 999\n",
    "\n",
    "# Algorithm \n",
    "def floyd(G):\n",
    "    dist = list(map(lambda p: list(map(lambda q: q, p)), G))\n",
    "\n",
    "    # Adding vertices individually\n",
    "    for r in range(nV):\n",
    "        for p in range(nV):\n",
    "            for q in range(nV):\n",
    "                dist[p][q] = min(dist[p][q], dist[p][r] + dist[r][q])\n",
    "    sol(dist)\n",
    "\n",
    "# Printing the output\n",
    "def sol(dist):\n",
    "    for p in range(nV):\n",
    "        for q in range(nV):\n",
    "            if(dist[p][q] == INF):\n",
    "                print(\"INF\", end=\" \")\n",
    "            else:\n",
    "                print(dist[p][q], end=\"  \")\n",
    "        print(\" \")\n",
    "\n",
    "G = [[0, 5, INF, INF],\n",
    "         [50, 0, 15, 5],\n",
    "         [30, INF, 0, 15],\n",
    "         [15, INF, 5, 0]]\n",
    "floyd(G)"
   ]
  },
  {
   "cell_type": "markdown",
   "metadata": {},
   "source": [
    "* INITIAL STATE \n",
    "\n",
    "![img](https://favtutor.com/resources/images/uploads/mceu_21301187511622357517637.jpg)\n",
    "![img](https://favtutor.com/resources/images/uploads/mceu_52576861821622357547243.jpg)\n",
    "* final state \n",
    "![img](https://favtutor.com/resources/images/uploads/mceu_49324913161622357813725.jpg)\n"
   ]
  },
  {
   "cell_type": "markdown",
   "metadata": {},
   "source": [
    "# Connected Components\n",
    "\n",
    "Basic question- what parts of graph are reachable from a given vertex?\n",
    "\n",
    "it's connected only if there is a path exists between them. Connected graph means a set of verticies that are reachable from each other.\n",
    "\n",
    "* undirected graph :how to find path between two ferticies \n",
    "* directed graph- aka digraphs- we can use pre/post visited clock and do DFS search tree on it.\n",
    "\n",
    "##### types of edges:\n",
    "* back edge - edge that goes up - ancestor  - cycle - path from A> B>C>A -- can go back to A from C etc....\n",
    "* forward edge - decendant - down thre tree\n",
    "* cross edge - sibiling - same depth\n",
    "\n",
    "##### directed acyclic digraph - AKA DAG\n",
    "Type of graph that has no cycles, so no back edge. \n",
    "\n",
    "We would use dfs and then - topologically sort it so that higher nodes have less children then lower nodes\n"
   ]
  },
  {
   "cell_type": "markdown",
   "metadata": {},
   "source": [
    "# Strongly connected components\n",
    "\n",
    "\n",
    "Pair of verticies v and w are strongly connected if there is a path from v->w and w>v.\n",
    "if a graph has a bunch of strongly connected components, and we bunch up each of the SCC, the overlying graph should be a DAG.\n",
    "\n",
    "https://inginious.org/course/competitive-programming/graphs-scc\n",
    "\n",
    "##### finding SCC\n",
    "find the sink - scc, rip it out, rinse and repeat. \n",
    "\n",
    "AKA, we are going to find a sink component cand clean it so that it only has incoming edges and output it and repeat until graph is empty. \n",
    "... so how do we find sink SCC. \n",
    "\n",
    "> In a general directed graph, the vertex v with the highest post visit order number will always lie in a source strongly-connected comp.\n",
    "\n",
    "1. First, create the reverse graph GR.\n",
    "2. Perform DFS on it to create a traversal tree.\n",
    "3. Sort the vertices decreasing by their post-order numbers to identify the vertex v to start DFS from in the original graph.\n",
    "4. Run the standard connected-component algorithm using DFS on G starting at v—increase a component count tracker cc whenever exploration of a vertex ends—to label each SCC.\n",
    "5. When DFS terminates for a component, set v to the next unexplored vertex\n",
    "with the highest post-order number and go to Step 4.\n",
    "6. The output is the metagraph DAG in reverse topological order."
   ]
  },
  {
   "cell_type": "markdown",
   "metadata": {},
   "source": [
    "### sat - satisfiability\n",
    "* literal: one of the formations of variable. \n",
    "* claue - series of literal\n",
    "* Formula - series of clauses\n",
    "\n",
    "Input - bolean formula - f made of n variable x1, x2... xn\n",
    "output: set assignment that satisfy the formula .\n",
    "\n",
    "\n",
    "### 2SAT algorithm\n",
    "key fact: if for all i, xi & xi NOT are different SCC\n",
    "then: S is a sink SCC and S_BAR is a source SCC\n",
    "Algo proof:\n",
    "1. Construct graph G for F\n",
    "2. Take a sink SCC S  (last)\n",
    "    - set S=T(true) & S BAR = F (false)\n",
    "    - remove sink and source\n",
    "    - repeat\n",
    "O (N+M)\n",
    "\n",
    "Key Fact: S is a sink and S Bar is a source\n",
    "if there is path from alpha to beta, then there is path from beta to alpha\n",
    "- alpha bar and beta bar in SCC\n",
    "\n"
   ]
  },
  {
   "cell_type": "code",
   "execution_count": null,
   "metadata": {},
   "outputs": [],
   "source": []
  },
  {
   "cell_type": "markdown",
   "metadata": {},
   "source": [
    "# Minimum Spanning tree\n",
    "WTH is minimum spanning tree? \n",
    "A tree thats connected to all the nodes with minimum cost. \n",
    "![](https://he-s3.s3.amazonaws.com/media/uploads/146b47a.jpg)\n",
    "\n",
    "### Poblem Description\n",
    "Inputs:\\\n",
    "undirected graph\\\n",
    "weights\n",
    "\n",
    "\n",
    "Output:  \n",
    "find minimal size  \n",
    "minimum weight  \n",
    "connected subgraph  \n",
    "overall weight of the tree  \n",
    "\n",
    "\n",
    "Note some basic properties about trees:  \n",
    "* A tree on n vertices has exactly n − 1 edges.\n",
    "* Exactly one path exists between every pair of vertices.\n",
    "* Any connected G = (V, E) with |E| = |V | − 1 is a tree.\n",
    "This last point bears repeating, as it will be important in determining the  \n",
    "minimum cut of a graph, later. The only thing necessary to prove that a graph\n",
    "is a tree is to show that its edge count is its vertex count minus one."
   ]
  },
  {
   "cell_type": "markdown",
   "metadata": {},
   "source": [
    "### Greedy approach - kruskal algorithm  \n",
    "* knapsac doesn't work  \n",
    "* Runtime of kruskal - O(m log n) since sorting takes O(m log n) time and checking for cycle is O(log n) using union find data structure\n",
    "\n",
    "Defination of Kruskal : Kruskal’s Algorithm builds the spanning tree by adding edges one by one into a growing spanning tree. Kruskal's algorithm follows greedy approach as in each iteration it finds an edge which has least weight and add it to the growing spanning tree\n",
    "\n",
    "```\n",
    "The algorithm \n",
    "Input: An undirected graph, G = (V, E) and its edge weights, w(e).\n",
    "Result: The minimum spanning tree of G.\n",
    "Sort E by ascending weight (via Mergesort(E), etc.)\n",
    "Let X := ∅\n",
    "foreach e = (v, w) ∈ E do // in sorted order\n",
    "if X ∪ e does not create a cycle then\n",
    "X = X ∪ e\n",
    "end\n",
    "end\n",
    "return X\n",
    "```"
   ]
  },
  {
   "cell_type": "markdown",
   "metadata": {},
   "source": [
    "### Graph Cuts\n",
    "Min cut to divide graph into two components and max cuts to divide. \n",
    "\n",
    "Any min edge across a cut will be part of an MST\n",
    "\n",
    "### Prim’s Algorithm\n",
    "Also use greedy\n",
    "\n",
    "Steps:\n",
    "\n",
    "Algorithm Steps:\n",
    "\n",
    "* Maintain two disjoint sets of vertices. One containing vertices that are in the growing spanning tree and other that are not in the growing spanning tree.\n",
    "* Select the cheapest vertex that is connected to the growing spanning tree and is not in the growing spanning tree and add it into the growing spanning tree. This can be done using Priority Queues. Insert the vertices, that are connected to growing spanning tree, into the Priority Queue.\n",
    "* Check for cycles. To do that, mark the nodes which have been already selected and insert only those nodes in the Priority Queue that are not marked."
   ]
  },
  {
   "cell_type": "markdown",
   "metadata": {},
   "source": [
    "# Page Rank Algorithm\n",
    "### Markov Chains - MCMC - marcov chain \n",
    "Properties\n",
    "* Could have self loops\n",
    "* Weight between 0.0 - 1.00\n",
    "\n",
    "Could be modeld into transition matrix N*N where N is number of states or web pages\n",
    "* Transformation matrices\n",
    "* Eigenvector : any point that just scales. \n",
    "\n",
    "* find: mixing time of markov chain\n",
    "* find: if its reachable \n",
    "\n",
    "## Algo\n",
    "Input: \n",
    "* neighbor - links coming to a page\n",
    "* neighbor - links going out form a page\n"
   ]
  },
  {
   "cell_type": "markdown",
   "metadata": {},
   "source": []
  },
  {
   "cell_type": "markdown",
   "metadata": {},
   "source": [
    "### Bipartite MC\n",
    "* term - irreducable : 1 SCC\n",
    "* term - ergodic - aperiodic (not biprtite/self loop) and irreducable "
   ]
  },
  {
   "cell_type": "markdown",
   "metadata": {},
   "source": []
  }
 ],
 "metadata": {
  "kernelspec": {
   "display_name": "Python 3 (ipykernel)",
   "language": "python",
   "name": "python3"
  },
  "language_info": {
   "codemirror_mode": {
    "name": "ipython",
    "version": 3
   },
   "file_extension": ".py",
   "mimetype": "text/x-python",
   "name": "python",
   "nbconvert_exporter": "python",
   "pygments_lexer": "ipython3",
   "version": "3.7.2"
  }
 },
 "nbformat": 4,
 "nbformat_minor": 1
}