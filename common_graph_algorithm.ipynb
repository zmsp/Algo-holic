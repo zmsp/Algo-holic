{
 "cells": [
  {
   "cell_type": "markdown",
   "metadata": {
    "collapsed": true,
    "pycharm": {
     "name": "#%% md\n"
    }
   },
   "source": [
    "# Common graph algorithms\n",
    "These algorithms creates the building block for almost any traversal algorithm. It traverses the graph by digging as deep as possible of a path down a single vertex, then backtracking and traversing neighbors until all nodes are searched."
   ]
  },
  {
   "cell_type": "markdown",
   "metadata": {},
   "source": [
    "### Depth first search\n"
   ]
  },
  {
   "cell_type": "code",
   "execution_count": 8,
   "metadata": {
    "pycharm": {
     "name": "#%%\n"
    }
   },
   "outputs": [
    {
     "name": "stdout",
     "output_type": "stream",
     "text": [
      "5\n",
      "3\n",
      "2\n",
      "4\n",
      "8\n",
      "7\n"
     ]
    }
   ],
   "source": [
    "### DFS\n",
    "\n",
    "graph = {\n",
    "  '5' : ['3','7'],\n",
    "  '3' : ['2', '4'],\n",
    "  '7' : ['8'],\n",
    "  '2' : [],\n",
    "  '4' : ['8'],\n",
    "  '8' : []\n",
    "}\n",
    "\n",
    "visited = set() # Set to keep track of visited nodes of graph.\n",
    "\n",
    "\n",
    "def dfs(visited, graph, node):\n",
    "    if (node not in visited):\n",
    "        print(node)\n",
    "        visited.add(node)\n",
    "        for n in graph[node]:\n",
    "            dfs(visited, graph, n)\n",
    "dfs(visited, graph, \"5\")"
   ]
  },
  {
   "cell_type": "code",
   "execution_count": 14,
   "metadata": {},
   "outputs": [
    {
     "name": "stdout",
     "output_type": "stream",
     "text": [
      "5\n",
      "3\n",
      "7\n",
      "2\n",
      "4\n",
      "8\n",
      "8\n"
     ]
    }
   ],
   "source": [
    "### BFS\n",
    "\n",
    "graph = {\n",
    "  '5' : ['3','7'],\n",
    "  '3' : ['2', '4'],\n",
    "  '7' : ['8'],\n",
    "  '2' : [],\n",
    "  '4' : ['8'],\n",
    "  '8' : []\n",
    "}\n",
    "\n",
    "visited = set() # Set to keep track of visited nodes of graph.\n",
    "\n",
    "queue = []\n",
    "def bfs(visited, graph, node):\n",
    "    queue.append(node)\n",
    "    while(True):\n",
    "        if not queue:\n",
    "            return\n",
    "        n = queue.pop(0)\n",
    "        print(n)\n",
    "        for leaf in graph[n]:\n",
    "            queue.append(leaf)\n",
    "        \n",
    "            \n",
    "bfs(visited, graph, \"5\")"
   ]
  },
  {
   "cell_type": "markdown",
   "metadata": {},
   "source": [
    "# Shortest path Algorithms"
   ]
  },
  {
   "cell_type": "markdown",
   "metadata": {},
   "source": [
    "#### Dijkstra Algorithm\n",
    "This algorithm is used to find shortest way to travel. \n",
    "Lets suppose we have a few cities we gotta visit. What's the most effictive way of visisting the cities with least amount of travel? We would use this algo.\n",
    "\n",
    "\n",
    "\n",
    "\n"
   ]
  },
  {
   "cell_type": "code",
   "execution_count": 21,
   "metadata": {},
   "outputs": [],
   "source": [
    "from queue import PriorityQueue\n",
    "class Graph:\n",
    "    def __init__(self, num_of_vertices):\n",
    "        self.v = num_of_vertices\n",
    "        self.edges = [[-1 for i in range(num_of_vertices)] for j in range(num_of_vertices)]\n",
    "        self.visited = []\n",
    "    def add_edge(self, u, v, weight):\n",
    "        self.edges[u][v] = weight\n",
    "        self.edges[v][u] = weight\n",
    "        \n",
    "def dijkstra(graph, start_vertex):\n",
    "    D = {v:float('inf') for v in range(graph.v)}\n",
    "    D[start_vertex] = 0\n",
    "\n",
    "    pq = PriorityQueue()\n",
    "    pq.put((0, start_vertex))\n",
    "\n",
    "    while not pq.empty():\n",
    "        (dist, current_vertex) = pq.get()\n",
    "        graph.visited.append(current_vertex)\n",
    "\n",
    "        for neighbor in range(graph.v):\n",
    "            if graph.edges[current_vertex][neighbor] != -1:\n",
    "                distance = graph.edges[current_vertex][neighbor]\n",
    "                if neighbor not in graph.visited:\n",
    "                    old_cost = D[neighbor]\n",
    "                    new_cost = D[current_vertex] + distance\n",
    "                    if new_cost < old_cost:\n",
    "                        pq.put((new_cost, neighbor))\n",
    "                        D[neighbor] = new_cost\n",
    "    return D\n"
   ]
  },
  {
   "cell_type": "code",
   "execution_count": 22,
   "metadata": {},
   "outputs": [],
   "source": [
    "g = Graph(9)\n",
    "g.add_edge(0, 1, 4)\n",
    "g.add_edge(0, 6, 7)\n",
    "g.add_edge(1, 6, 11)\n",
    "g.add_edge(1, 7, 20)\n",
    "g.add_edge(1, 2, 9)\n",
    "g.add_edge(2, 3, 6)\n",
    "g.add_edge(2, 4, 2)\n",
    "g.add_edge(3, 4, 10)\n",
    "g.add_edge(3, 5, 5)\n",
    "g.add_edge(4, 5, 15)\n",
    "g.add_edge(4, 7, 1)\n",
    "g.add_edge(4, 8, 5)\n",
    "g.add_edge(5, 8, 12)\n",
    "g.add_edge(6, 7, 1)\n",
    "g.add_edge(7, 8, 3) \n",
    "D = dijkstra(g, 0)\n",
    "print(D)"
   ]
  },
  {
   "cell_type": "markdown",
   "metadata": {},
   "source": [
    "in above example code (not by zobair), we are setting initial distance from a given vetrex to  infinity and updating it to least cost though the loop functions...."
   ]
  },
  {
   "cell_type": "markdown",
   "metadata": {},
   "source": [
    "#### Bellman-Ford Algo"
   ]
  },
  {
   "cell_type": "markdown",
   "metadata": {},
   "source": [
    "Dijk's algorithm fails when there are negative weight edges. We can use this one to find negative weights... limitation is, that it's useful for one given vertex\n",
    "\n",
    "WTF are negative weight edges??\n",
    "Think of it like power needed to go from up hill -> downhill in terms of power generation. Here you would gain power, thus negative weight.\n",
    "\n",
    "Input- graph\n",
    "output- shortest distance from vertices to all the edges. \n",
    "\n"
   ]
  },
  {
   "cell_type": "code",
   "execution_count": 27,
   "metadata": {},
   "outputs": [
    {
     "name": "stdout",
     "output_type": "stream",
     "text": [
      "Vertex Distance from Source\n",
      "0\t\t0\n",
      "1\t\t-1\n",
      "2\t\t2\n",
      "3\t\t-2\n",
      "4\t\t1\n"
     ]
    }
   ],
   "source": [
    "## Code form https://www.geeksforgeeks.org/bellman-ford-algorithm-dp-23/\n",
    "class Graph:\n",
    " \n",
    "    def __init__(self, vertices):\n",
    "        self.V = vertices # No. of vertices\n",
    "        self.graph = []\n",
    " \n",
    "    # function to add an edge to graph\n",
    "    def addEdge(self, u, v, w):\n",
    "        self.graph.append([u, v, w])\n",
    "         \n",
    "    # utility function used to print the solution\n",
    "    def printArr(self, dist):\n",
    "        print(\"Vertex Distance from Source\")\n",
    "        for i in range(self.V):\n",
    "            print(\"{0}\\t\\t{1}\".format(i, dist[i]))\n",
    "     \n",
    "    # The main function that finds shortest distances from src to\n",
    "    # all other vertices using Bellman-Ford algorithm. The function\n",
    "    # also detects negative weight cycle\n",
    "    def BellmanFord(self, src):\n",
    " \n",
    "        # Step 1: Initialize distances from src to all other vertices\n",
    "        # as INFINITE\n",
    "        dist = [float(\"Inf\")] * self.V\n",
    "        dist[src] = 0\n",
    " \n",
    " \n",
    "        # Step 2: Relax all edges |V| - 1 times. A simple shortest\n",
    "        # path from src to any other vertex can have at-most |V| - 1\n",
    "        # edges\n",
    "        for _ in range(self.V - 1):\n",
    "            # Update dist value and parent index of the adjacent vertices of\n",
    "            # the picked vertex. Consider only those vertices which are still in\n",
    "            # queue\n",
    "            for u, v, w in self.graph:\n",
    "                if dist[u] != float(\"Inf\") and dist[u] + w < dist[v]:\n",
    "                        dist[v] = dist[u] + w\n",
    " \n",
    "        # Step 3: check for negative-weight cycles. The above step\n",
    "        # guarantees shortest distances if graph doesn't contain\n",
    "        # negative weight cycle. If we get a shorter path, then there\n",
    "        # is a cycle.\n",
    " \n",
    "        for u, v, w in self.graph:\n",
    "                if dist[u] != float(\"Inf\") and dist[u] + w < dist[v]:\n",
    "                        print(\"Graph contains negative weight cycle\")\n",
    "                        return\n",
    "                         \n",
    "        # print all distance\n",
    "        self.printArr(dist)\n",
    " \n",
    "g = Graph(5)\n",
    "g.addEdge(0, 1, -1)\n",
    "g.addEdge(0, 2, 4)\n",
    "g.addEdge(1, 2, 3)\n",
    "g.addEdge(1, 3, 2)\n",
    "g.addEdge(1, 4, 2)\n",
    "g.addEdge(3, 2, 5)\n",
    "g.addEdge(3, 1, 1)\n",
    "g.addEdge(4, 3, -3)\n",
    " \n",
    "# Print the solution\n",
    "g.BellmanFord(0)"
   ]
  },
  {
   "cell_type": "markdown",
   "metadata": {},
   "source": [
    "##### Floyed-Warshall Algo"
   ]
  },
  {
   "cell_type": "code",
   "execution_count": null,
   "metadata": {},
   "outputs": [],
   "source": []
  }
 ],
 "metadata": {
  "kernelspec": {
   "display_name": "Python 3 (ipykernel)",
   "language": "python",
   "name": "python3"
  },
  "language_info": {
   "codemirror_mode": {
    "name": "ipython",
    "version": 3
   },
   "file_extension": ".py",
   "mimetype": "text/x-python",
   "name": "python",
   "nbconvert_exporter": "python",
   "pygments_lexer": "ipython3",
   "version": "3.7.2"
  }
 },
 "nbformat": 4,
 "nbformat_minor": 1
}