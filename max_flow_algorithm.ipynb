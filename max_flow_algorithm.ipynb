{
 "cells": [
  {
   "cell_type": "code",
   "execution_count": 1,
   "metadata": {},
   "outputs": [],
   "source": [
    "# Max flow algo"
   ]
  },
  {
   "cell_type": "markdown",
   "metadata": {},
   "source": [
    "# Max flow algorithm\n",
    "### Ford–Fulkerson_algorithm\n",
    "* greedy approach to find max flow in a network\n",
    "\n",
    "\n",
    "## Max flow = min st-cut\n",
    "\n",
    "s has to be in one partiion , t has to be other\n",
    "\n",
    "Theorem: size of max folow = min capacity of st-cut\n",
    "proof: \n",
    "* first, max flow <= min st-cut\n",
    "\n",
    "* max sise of max flow => min cap\n",
    "\n"
   ]
  },
  {
   "cell_type": "code",
   "execution_count": null,
   "metadata": {},
   "outputs": [],
   "source": [
    "# image segmentation\n",
    "* "
   ]
  }
 ],
 "metadata": {
  "interpreter": {
   "hash": "cedee655b206a136c458ad33b3f07c68c90a261c8604bb2114d85b5d282e1299"
  },
  "kernelspec": {
   "display_name": "Python 3.7.2 64-bit ('venv': venv)",
   "language": "python",
   "name": "python3"
  },
  "language_info": {
   "codemirror_mode": {
    "name": "ipython",
    "version": 3
   },
   "file_extension": ".py",
   "mimetype": "text/x-python",
   "name": "python",
   "nbconvert_exporter": "python",
   "pygments_lexer": "ipython3",
   "version": "3.7.2"
  },
  "orig_nbformat": 4
 },
 "nbformat": 4,
 "nbformat_minor": 2
}
