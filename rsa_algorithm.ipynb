{
 "cells": [
  {
   "cell_type": "markdown",
   "metadata": {},
   "source": [
    "# RSA Algorithms\n",
    "Highly depended on modular equations\n",
    "## Fermat's little theorem\n",
    "* Fermat’s little theorem states that if p is a prime number, then for any integer a, the number a p – a is an integer multiple of p. \n",
    "\n",
    "Here p is a prime number \n",
    "a^p ≡ a (mod p).\n",
    "\n",
    "$ a^p \\equiv a \\pmod p. $\n",
    "\n",
    "\n",
    "\n",
    "\n",
    "\n",
    "p = prime, a = integer then\n",
    "a^p === a(mod p)\n",
    "\n",
    "p = prime, a = [1,2,3...p-1] integer then\n",
    "a^p-1 === 1(mod p)\n",
    "\n",
    "$ a^{p-1} \\equiv 1 \\pmod p. $\n",
    "\n",
    "p = prime, a any integer p \\ (notdividing) a. then\n",
    "a^p-1 === 1(mod p)\n",
    "\n",
    "### Problems\n",
    "Fix p = 7, verify the theorem for a = 3 then for  a = 6\n",
    "\n",
    "3^6 === 729 ===1(mod 7)\n",
    "3^6 === 46656 ===1(mod 7)\n",
    "\n",
    "\n",
    "\n"
   ]
  },
  {
   "cell_type": "markdown",
   "metadata": {},
   "source": [
    "# Euler's theorem\n",
    "In number theory, Euler's theorem (also known as the Fermat–Euler theorem or Euler's totient theorem) states that, if n and a are coprime positive integers, and $${\\displaystyle \\varphi (n)} $$ is Euler's totient function, then a raised to the power {\\displaystyle \\varphi (n)}\\varphi (n) is congruent to 1 modulo n; that is\n",
    "\n",
    "Coprime positive means the numbers share 1 GCD. \n",
    "$$\n",
    "{\\displaystyle a^{\\varphi (n)}\\equiv 1{\\pmod {n}}.}{\\displaystyle a^{\\varphi (n)}\\equiv 1{\\pmod {n}}.}\n",
    "$$\n",
    "\n"
   ]
  },
  {
   "cell_type": "markdown",
   "metadata": {},
   "source": [
    "## Fermat's Test"
   ]
  },
  {
   "cell_type": "code",
   "execution_count": null,
   "metadata": {},
   "outputs": [],
   "source": [
    "# image segmentation\n",
    "* "
   ]
  }
 ],
 "metadata": {
  "interpreter": {
   "hash": "cedee655b206a136c458ad33b3f07c68c90a261c8604bb2114d85b5d282e1299"
  },
  "kernelspec": {
   "display_name": "Python 3.7.2 64-bit ('venv': venv)",
   "language": "python",
   "name": "python3"
  },
  "language_info": {
   "codemirror_mode": {
    "name": "ipython",
    "version": 3
   },
   "file_extension": ".py",
   "mimetype": "text/x-python",
   "name": "python",
   "nbconvert_exporter": "python",
   "pygments_lexer": "ipython3",
   "version": "3.7.2"
  },
  "orig_nbformat": 4
 },
 "nbformat": 4,
 "nbformat_minor": 2
}
